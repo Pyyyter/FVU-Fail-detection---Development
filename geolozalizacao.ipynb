{
 "cells": [
  {
   "cell_type": "markdown",
   "metadata": {},
   "source": [
    "# Organizado"
   ]
  },
  {
   "cell_type": "code",
   "execution_count": 1,
   "metadata": {},
   "outputs": [],
   "source": [
    "#imports\n",
    "from PIL import Image, ExifTags\n",
    "from math import dist as distancia_euclidiana, radians\n",
    "import numpy as np\n",
    "from math import cos, radians\n"
   ]
  },
  {
   "cell_type": "code",
   "execution_count": 2,
   "metadata": {},
   "outputs": [],
   "source": [
    "#função de extrair metadados do gabriel\n",
    "def extract_metadata(image):\n",
    "    \"\"\"Extrair metadados EXIF da imagem e converter para tipos serializáveis.\"\"\"\n",
    "    if image._getexif() is None:\n",
    "        return {}\n",
    "    metadata = {}\n",
    "    for k, v in image._getexif().items():\n",
    "        tag_name = ExifTags.TAGS.get(k, k)\n",
    "        try:\n",
    "            if isinstance(v, (list, tuple)):\n",
    "                v = [\n",
    "                    float(x) if hasattr(x, \"denominator\") and x.denominator != 0 else None\n",
    "                    for x in v\n",
    "                ]\n",
    "            elif hasattr(v, \"denominator\") and v.denominator != 0:\n",
    "                v = float(v)\n",
    "            elif hasattr(v, \"denominator\") and v.denominator == 0:\n",
    "                v = None\n",
    "            metadata[tag_name] = v\n",
    "        except Exception as e:\n",
    "            metadata[tag_name] = str(v)  # Converte valores não processáveis para string\n",
    "    return metadata"
   ]
  },
  {
   "cell_type": "code",
   "execution_count": 3,
   "metadata": {},
   "outputs": [],
   "source": [
    "#função de converter grau, metro e segundo para decimal\n",
    "def dms_to_dd(hemisferio, d, m, s):\n",
    "    dd = d + float(m)/60 + float(s)/3600\n",
    "    if hemisferio == 'W' or hemisferio == 'S':\n",
    "        return -dd\n",
    "    elif hemisferio == 'E' or hemisferio == 'N':\n",
    "        return dd"
   ]
  },
  {
   "cell_type": "code",
   "execution_count": 4,
   "metadata": {},
   "outputs": [],
   "source": [
    "#calcula o tamanho de 1 pixel da imagem em metros\n",
    "def calcula_tamanho_1_pixel(altitude, abertura_lente, imagem):\n",
    "    \n",
    "    altitude_relativa = altitude\n",
    "    cos_abertura_lente = cos(radians(abertura_lente/2))\n",
    "\n",
    "    pixels_horizontal, pixels_vertical = imagem.size\n",
    "    distancia_drone_margem_imagem = abs(altitude_relativa * cos_abertura_lente)\n",
    "    distancia_margem_a_margem = 2*distancia_drone_margem_imagem\n",
    "    pixel_em_metros = distancia_margem_a_margem/pixels_horizontal\n",
    "\n",
    "    return pixel_em_metros"
   ]
  },
  {
   "cell_type": "code",
   "execution_count": 5,
   "metadata": {},
   "outputs": [],
   "source": [
    "#distancia do drone até o o centro da placa (no 2d, sem altura), calculado em pixels \n",
    "def calcula_distancia_centro_placa(imagem, coordenadas_placa, pixel_em_metros):\n",
    "\n",
    "    coordenadas_drone = (imagem.size[0]/2, imagem.size[1]/2)\n",
    "    distancia_centro_placa = distancia_euclidiana(coordenadas_placa, coordenadas_drone)\n",
    "    distancia_centro_placa_metros = distancia_centro_placa * pixel_em_metros\n",
    "\n",
    "    return distancia_centro_placa_metros"
   ]
  },
  {
   "cell_type": "code",
   "execution_count": 6,
   "metadata": {},
   "outputs": [],
   "source": [
    "#converte as coordenadas do centro da imagem de grau, minuto e segundo para decimal e calcula a coordenada da placa  \n",
    "def calcula_coordenadas_geograficas_placa(hemisferio_latitude, hemisferio_longitude, latitude, longitude, distancia_centro_placa_metros):\n",
    "\n",
    "    raio_terra = 6378137\n",
    "\n",
    "    latitude_decimal = dms_to_dd(hemisferio_latitude, latitude[0], latitude[1], latitude[2])\n",
    "    longitude_decimal = dms_to_dd(hemisferio_longitude, longitude[0], longitude[1], longitude[2])\n",
    "\n",
    "    variação_latitude = distancia_centro_placa_metros/raio_terra\n",
    "    variação_longitude = distancia_centro_placa_metros/(raio_terra * cos(latitude_decimal))\n",
    "\n",
    "    latitude_placa = latitude_decimal + variação_latitude\n",
    "    longitude_placa = longitude_decimal + variação_longitude\n",
    "\n",
    "    return latitude_placa, longitude_placa"
   ]
  },
  {
   "cell_type": "code",
   "execution_count": 7,
   "metadata": {},
   "outputs": [],
   "source": [
    "abertura_lente = 73.7 #do próprio drone \n",
    "imagem = Image.open('assets/pastaplacas/nab_sem_bordas.JPG')\n",
    "\n",
    "metadados = extract_metadata(imagem)\n",
    "altitude = metadados['GPSInfo'][6] - 22.3 #referente à altitude (altura do drone a partir do nível do mar)\n",
    "\n",
    "pixel_em_metros = calcula_tamanho_1_pixel(altitude, abertura_lente, imagem)"
   ]
  },
  {
   "cell_type": "code",
   "execution_count": 8,
   "metadata": {},
   "outputs": [],
   "source": [
    "coordenadas_placa = (611, 182) #deve ser pega no loop da função extract_placas_from_predictions\n",
    "\n",
    "distancia_centro_placa_metros = calcula_distancia_centro_placa(imagem, coordenadas_placa, pixel_em_metros)"
   ]
  },
  {
   "cell_type": "code",
   "execution_count": 9,
   "metadata": {},
   "outputs": [],
   "source": [
    "hemisferio_latitude = metadados['GPSInfo'][1]\n",
    "latitude = metadados['GPSInfo'][2]\n",
    "hemisferio_longitude = metadados['GPSInfo'][3]\n",
    "longitude = metadados['GPSInfo'][4]\n",
    "\n",
    "nova_latitude, nova_longitude = calcula_coordenadas_geograficas_placa(hemisferio_latitude, hemisferio_longitude, latitude, longitude)"
   ]
  },
  {
   "cell_type": "code",
   "execution_count": 10,
   "metadata": {},
   "outputs": [
    {
     "data": {
      "text/plain": [
       "(-22.906898707399936, -43.13285484823155)"
      ]
     },
     "execution_count": 10,
     "metadata": {},
     "output_type": "execute_result"
    }
   ],
   "source": [
    "nova_latitude, nova_longitude"
   ]
  },
  {
   "cell_type": "code",
   "execution_count": 11,
   "metadata": {},
   "outputs": [
    {
     "data": {
      "text/plain": [
       "((22.0, 54.0, 24.8394), (43.0, 7.0, 58.2708))"
      ]
     },
     "execution_count": 11,
     "metadata": {},
     "output_type": "execute_result"
    }
   ],
   "source": [
    "latitude, longitude"
   ]
  },
  {
   "cell_type": "code",
   "execution_count": 12,
   "metadata": {},
   "outputs": [],
   "source": [
    "#Une todas as funções do calculo das coordenadas em uma só\n",
    "def calcula_coordenadas_geograficas(imagem):\n",
    "\n",
    "    metadados = extract_metadata(imagem)\n",
    "    altitude = metadados['GPSInfo'][6] - 22.3 #referente à altitude (altura do drone a partir do nível do mar)\n",
    "    pixel_em_metros = calcula_tamanho_1_pixel(altitude, abertura_lente, imagem)\n",
    "\n",
    "\n",
    "    coordenadas_placa = (611, 182) #deve ser pega no loop da função extract_placas_from_predictions\n",
    "    distancia_centro_placa_metros = calcula_distancia_centro_placa(imagem, coordenadas_placa, pixel_em_metros)\n",
    "\n",
    "    hemisferio_latitude = metadados['GPSInfo'][1]\n",
    "    latitude = metadados['GPSInfo'][2]\n",
    "    hemisferio_longitude = metadados['GPSInfo'][3]\n",
    "    longitude = metadados['GPSInfo'][4]\n",
    "\n",
    "    nova_latitude, nova_longitude = calcula_coordenadas_geograficas_placa(hemisferio_latitude, hemisferio_longitude, latitude, longitude)\n",
    "    return nova_latitude, nova_longitude\n",
    "    "
   ]
  },
  {
   "cell_type": "code",
   "execution_count": 13,
   "metadata": {},
   "outputs": [],
   "source": [
    "imagem = Image.open('assets/pastaplacas/nab_sem_bordas.JPG')\n",
    "nova_latitude, nova_longitude = calcula_coordenadas_geograficas(imagem)"
   ]
  },
  {
   "cell_type": "code",
   "execution_count": 14,
   "metadata": {},
   "outputs": [
    {
     "data": {
      "text/plain": [
       "(-22.906898707399936, -43.13285484823155)"
      ]
     },
     "execution_count": 14,
     "metadata": {},
     "output_type": "execute_result"
    }
   ],
   "source": [
    "nova_latitude, nova_longitude"
   ]
  },
  {
   "cell_type": "code",
   "execution_count": null,
   "metadata": {},
   "outputs": [],
   "source": []
  }
 ],
 "metadata": {
  "kernelspec": {
   "display_name": "hilai",
   "language": "python",
   "name": "python3"
  },
  "language_info": {
   "codemirror_mode": {
    "name": "ipython",
    "version": 3
   },
   "file_extension": ".py",
   "mimetype": "text/x-python",
   "name": "python",
   "nbconvert_exporter": "python",
   "pygments_lexer": "ipython3",
   "version": "3.11.10"
  }
 },
 "nbformat": 4,
 "nbformat_minor": 2
}
